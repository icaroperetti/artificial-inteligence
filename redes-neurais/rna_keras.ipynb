{
  "nbformat": 4,
  "nbformat_minor": 0,
  "metadata": {
    "colab": {
      "name": "rna-keras.ipynb",
      "provenance": [],
      "collapsed_sections": [],
      "authorship_tag": "ABX9TyNa0YFg9E7pIVyB1Y/Od6OB",
      "include_colab_link": true
    },
    "kernelspec": {
      "name": "python3",
      "display_name": "Python 3"
    },
    "language_info": {
      "name": "python"
    },
    "accelerator": "TPU"
  },
  "cells": [
    {
      "cell_type": "markdown",
      "metadata": {
        "id": "view-in-github",
        "colab_type": "text"
      },
      "source": [
        "<a href=\"https://colab.research.google.com/github/icaroperetti/artificial-intelligence/blob/main/redes-neurais/rna_keras.ipynb\" target=\"_parent\"><img src=\"https://colab.research.google.com/assets/colab-badge.svg\" alt=\"Open In Colab\"/></a>"
      ]
    },
    {
      "cell_type": "code",
      "execution_count": null,
      "metadata": {
        "colab": {
          "base_uri": "https://localhost:8080/"
        },
        "id": "4cdrydGf-d9T",
        "outputId": "a8edab5d-4e15-4575-ae71-dcf393c99e6e"
      },
      "outputs": [
        {
          "output_type": "stream",
          "name": "stdout",
          "text": [
            "Drive already mounted at /content/drive; to attempt to forcibly remount, call drive.mount(\"/content/drive\", force_remount=True).\n"
          ]
        }
      ],
      "source": [
        "# Connect to google drive\n",
        "from google.colab import drive\n",
        "drive.mount('/content/drive',force_remount=False)"
      ]
    },
    {
      "cell_type": "code",
      "source": [
        "from numpy import loadtxt\n",
        "from keras.models import Sequential\n",
        "from keras.layers import Dense, Dropout\n",
        "from sklearn.model_selection import train_test_split\n",
        "from sklearn.metrics import confusion_matrix\n",
        "from sklearn.preprocessing import Normalizer\n",
        "from sklearn import metrics\n",
        "\n",
        "#Path of the file in my drive\n",
        "# https://www.kaggle.com/datasets/somesh24/spambase?select=spambase_csv.csv  - E-mail spam\n",
        "\n",
        "file_path = 'https://raw.githubusercontent.com/icaroperetti/spam-kaggle-csv/main/spambase_csv.csv'\n",
        "\n",
        "\n",
        "# load the dataset\n",
        "dataset = loadtxt(file_path,delimiter=\",\")\n",
        "\n",
        "X = dataset[:,0:57] # Dados\n",
        "y = dataset[:,57] # Classe 0 - Não é spam  1 - É spam\n",
        "\n",
        "print('Before',X)\n",
        "\n",
        "X = Normalizer().fit(X).transform(X)\n",
        "\n",
        "print('After',X)\n",
        "\n",
        "print(X.shape,y.shape)\n",
        "\n",
        "# print(X,'\\n\\n',y)\n",
        "\n",
        "X_train, X_test, y_train, y_test = train_test_split(X, y, test_size=0.2, random_state=80, shuffle=True)\n",
        "\n",
        "\n",
        "model = Sequential()\n",
        "model.add(Dense(100, input_dim=X.shape[1], activation='relu'))\n",
        "model.add(Dropout(0.2)) \n",
        "model.add(Dense(33, activation='relu'))\n",
        "model.add(Dropout(0.2))\n",
        "model.add(Dense(11, activation='relu'))\n",
        "model.add(Dropout(0.2))\n",
        "model.add(Dense(1, activation='sigmoid'))\n",
        "\n",
        "# compile the keras model\n",
        "model.compile(loss='binary_crossentropy', optimizer='adam', metrics=['accuracy'])\n",
        "\n",
        "\n",
        "# fit the keras model on the dataset\n",
        "model.fit(X_train, y_train, validation_data=(X_test, y_test), epochs=200, batch_size=100)\n",
        "\n",
        "\n",
        "loss, accuracy = model.evaluate(X, y)\n",
        "print('Accuracy: %.2f' % (accuracy*100))\n",
        "print('Loss: %.2f' % (loss*100))\n"
      ],
      "metadata": {
        "id": "coySf_fRFRw-"
      },
      "execution_count": null,
      "outputs": []
    }
  ]
}