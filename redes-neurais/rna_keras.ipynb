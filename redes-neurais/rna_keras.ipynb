{
  "cells": [
    {
      "cell_type": "code",
      "execution_count": 8,
      "metadata": {
        "id": "gyR1T1aiI90l"
      },
      "outputs": [],
      "source": [
        "# Importações\n",
        "import numpy as np\n",
        "from keras.models import Sequential\n",
        "from keras.layers import Dense, Dropout\n",
        "from sklearn.model_selection import train_test_split\n",
        "from sklearn.preprocessing import Normalizer\n",
        "import matplotlib.pyplot as plt\n",
        "from sklearn.metrics import confusion_matrix, ConfusionMatrixDisplay\n",
        "from sklearn import metrics\n",
        "from keras import activations"
      ]
    },
    {
      "cell_type": "code",
      "execution_count": 60,
      "metadata": {
        "id": "coySf_fRFRw-",
        "colab": {
          "base_uri": "https://localhost:8080/"
        },
        "outputId": "c7cc9ecd-33f2-4985-dc3d-9f11ed0fa709"
      },
      "outputs": [
        {
          "output_type": "stream",
          "name": "stdout",
          "text": [
            "(4601, 57) (4601,)\n",
            "[[0.00000000e+00 2.30215827e-03 2.30215827e-03 ... 1.35107914e-02\n",
            "  2.19424460e-01 1.00000000e+00]\n",
            " [2.04280156e-04 2.72373541e-04 4.86381323e-04 ... 4.97470817e-03\n",
            "  9.82490272e-02 1.00000000e+00]\n",
            " [2.65604250e-05 0.00000000e+00 3.14298362e-04 ... 4.34749889e-03\n",
            "  2.14696768e-01 1.00000000e+00]\n",
            " ...\n",
            " [2.54237288e-03 0.00000000e+00 2.54237288e-03 ... 1.18983051e-02\n",
            "  5.08474576e-02 1.00000000e+00]\n",
            " [1.23076923e-02 0.00000000e+00 0.00000000e+00 ... 1.47051282e-02\n",
            "  6.41025641e-02 1.00000000e+00]\n",
            " [0.00000000e+00 0.00000000e+00 1.62500000e-02 ... 3.12500000e-02\n",
            "  1.25000000e-01 1.00000000e+00]] \n",
            "\n",
            " [1. 1. 1. ... 0. 0. 0.]\n",
            "(3680, 57) (3680,) (921, 57) (921,)\n",
            "Epoch 1/100\n",
            "29/29 [==============================] - 1s 12ms/step - loss: 0.6896 - accuracy: 0.5628 - val_loss: 0.6840 - val_accuracy: 0.6080\n",
            "Epoch 2/100\n",
            "29/29 [==============================] - 0s 4ms/step - loss: 0.6787 - accuracy: 0.6041 - val_loss: 0.6708 - val_accuracy: 0.6080\n",
            "Epoch 3/100\n",
            "29/29 [==============================] - 0s 5ms/step - loss: 0.6668 - accuracy: 0.6049 - val_loss: 0.6557 - val_accuracy: 0.6080\n",
            "Epoch 4/100\n",
            "29/29 [==============================] - 0s 5ms/step - loss: 0.6505 - accuracy: 0.6052 - val_loss: 0.6369 - val_accuracy: 0.6080\n",
            "Epoch 5/100\n",
            "29/29 [==============================] - 0s 4ms/step - loss: 0.6281 - accuracy: 0.6054 - val_loss: 0.6139 - val_accuracy: 0.6080\n",
            "Epoch 6/100\n",
            "29/29 [==============================] - 0s 5ms/step - loss: 0.6021 - accuracy: 0.6277 - val_loss: 0.5799 - val_accuracy: 0.6460\n",
            "Epoch 7/100\n",
            "29/29 [==============================] - 0s 6ms/step - loss: 0.5772 - accuracy: 0.6617 - val_loss: 0.5528 - val_accuracy: 0.6699\n",
            "Epoch 8/100\n",
            "29/29 [==============================] - 0s 4ms/step - loss: 0.5575 - accuracy: 0.6880 - val_loss: 0.5260 - val_accuracy: 0.7199\n",
            "Epoch 9/100\n",
            "29/29 [==============================] - 0s 5ms/step - loss: 0.5252 - accuracy: 0.7087 - val_loss: 0.5004 - val_accuracy: 0.8024\n",
            "Epoch 10/100\n",
            "29/29 [==============================] - 0s 5ms/step - loss: 0.5029 - accuracy: 0.7478 - val_loss: 0.4739 - val_accuracy: 0.8046\n",
            "Epoch 11/100\n",
            "29/29 [==============================] - 0s 5ms/step - loss: 0.4911 - accuracy: 0.7584 - val_loss: 0.4516 - val_accuracy: 0.8252\n",
            "Epoch 12/100\n",
            "29/29 [==============================] - 0s 5ms/step - loss: 0.4716 - accuracy: 0.7793 - val_loss: 0.4323 - val_accuracy: 0.8469\n",
            "Epoch 13/100\n",
            "29/29 [==============================] - 0s 5ms/step - loss: 0.4514 - accuracy: 0.7957 - val_loss: 0.4124 - val_accuracy: 0.8523\n",
            "Epoch 14/100\n",
            "29/29 [==============================] - 0s 9ms/step - loss: 0.4369 - accuracy: 0.8027 - val_loss: 0.3988 - val_accuracy: 0.8556\n",
            "Epoch 15/100\n",
            "29/29 [==============================] - 0s 11ms/step - loss: 0.4280 - accuracy: 0.8160 - val_loss: 0.3902 - val_accuracy: 0.8350\n",
            "Epoch 16/100\n",
            "29/29 [==============================] - 0s 7ms/step - loss: 0.4155 - accuracy: 0.8253 - val_loss: 0.3756 - val_accuracy: 0.8502\n",
            "Epoch 17/100\n",
            "29/29 [==============================] - 0s 10ms/step - loss: 0.4012 - accuracy: 0.8313 - val_loss: 0.3636 - val_accuracy: 0.8621\n",
            "Epoch 18/100\n",
            "29/29 [==============================] - 0s 10ms/step - loss: 0.4006 - accuracy: 0.8253 - val_loss: 0.3591 - val_accuracy: 0.8491\n",
            "Epoch 19/100\n",
            "29/29 [==============================] - 0s 5ms/step - loss: 0.3854 - accuracy: 0.8465 - val_loss: 0.3671 - val_accuracy: 0.8219\n",
            "Epoch 20/100\n",
            "29/29 [==============================] - 0s 4ms/step - loss: 0.3724 - accuracy: 0.8457 - val_loss: 0.3309 - val_accuracy: 0.8947\n",
            "Epoch 21/100\n",
            "29/29 [==============================] - 0s 5ms/step - loss: 0.3633 - accuracy: 0.8514 - val_loss: 0.3257 - val_accuracy: 0.8838\n",
            "Epoch 22/100\n",
            "29/29 [==============================] - 0s 5ms/step - loss: 0.3615 - accuracy: 0.8538 - val_loss: 0.3085 - val_accuracy: 0.8969\n",
            "Epoch 23/100\n",
            "29/29 [==============================] - 0s 5ms/step - loss: 0.3489 - accuracy: 0.8644 - val_loss: 0.3001 - val_accuracy: 0.9034\n",
            "Epoch 24/100\n",
            "29/29 [==============================] - 0s 5ms/step - loss: 0.3366 - accuracy: 0.8666 - val_loss: 0.2940 - val_accuracy: 0.8958\n",
            "Epoch 25/100\n",
            "29/29 [==============================] - 0s 6ms/step - loss: 0.3338 - accuracy: 0.8690 - val_loss: 0.2801 - val_accuracy: 0.9153\n",
            "Epoch 26/100\n",
            "29/29 [==============================] - 0s 5ms/step - loss: 0.3365 - accuracy: 0.8701 - val_loss: 0.2861 - val_accuracy: 0.8958\n",
            "Epoch 27/100\n",
            "29/29 [==============================] - 0s 5ms/step - loss: 0.3159 - accuracy: 0.8772 - val_loss: 0.2791 - val_accuracy: 0.8914\n",
            "Epoch 28/100\n",
            "29/29 [==============================] - 0s 5ms/step - loss: 0.3084 - accuracy: 0.8859 - val_loss: 0.2603 - val_accuracy: 0.9164\n",
            "Epoch 29/100\n",
            "29/29 [==============================] - 0s 5ms/step - loss: 0.3210 - accuracy: 0.8723 - val_loss: 0.2634 - val_accuracy: 0.9055\n",
            "Epoch 30/100\n",
            "29/29 [==============================] - 0s 5ms/step - loss: 0.3019 - accuracy: 0.8897 - val_loss: 0.2538 - val_accuracy: 0.9153\n",
            "Epoch 31/100\n",
            "29/29 [==============================] - 0s 4ms/step - loss: 0.3017 - accuracy: 0.8897 - val_loss: 0.2508 - val_accuracy: 0.9164\n",
            "Epoch 32/100\n",
            "29/29 [==============================] - 0s 5ms/step - loss: 0.2866 - accuracy: 0.8913 - val_loss: 0.2422 - val_accuracy: 0.9240\n",
            "Epoch 33/100\n",
            "29/29 [==============================] - 0s 5ms/step - loss: 0.2969 - accuracy: 0.8870 - val_loss: 0.2415 - val_accuracy: 0.9186\n",
            "Epoch 34/100\n",
            "29/29 [==============================] - 0s 5ms/step - loss: 0.2924 - accuracy: 0.8929 - val_loss: 0.2638 - val_accuracy: 0.8914\n",
            "Epoch 35/100\n",
            "29/29 [==============================] - 0s 5ms/step - loss: 0.2846 - accuracy: 0.8946 - val_loss: 0.2445 - val_accuracy: 0.9045\n",
            "Epoch 36/100\n",
            "29/29 [==============================] - 0s 5ms/step - loss: 0.2864 - accuracy: 0.8959 - val_loss: 0.2411 - val_accuracy: 0.9142\n",
            "Epoch 37/100\n",
            "29/29 [==============================] - 0s 6ms/step - loss: 0.2822 - accuracy: 0.8965 - val_loss: 0.2359 - val_accuracy: 0.9142\n",
            "Epoch 38/100\n",
            "29/29 [==============================] - 0s 5ms/step - loss: 0.2727 - accuracy: 0.9024 - val_loss: 0.2269 - val_accuracy: 0.9229\n",
            "Epoch 39/100\n",
            "29/29 [==============================] - 0s 5ms/step - loss: 0.2751 - accuracy: 0.9022 - val_loss: 0.2240 - val_accuracy: 0.9229\n",
            "Epoch 40/100\n",
            "29/29 [==============================] - 0s 5ms/step - loss: 0.2649 - accuracy: 0.9060 - val_loss: 0.2228 - val_accuracy: 0.9229\n",
            "Epoch 41/100\n",
            "29/29 [==============================] - 0s 5ms/step - loss: 0.2663 - accuracy: 0.9033 - val_loss: 0.2211 - val_accuracy: 0.9229\n",
            "Epoch 42/100\n",
            "29/29 [==============================] - 0s 5ms/step - loss: 0.2689 - accuracy: 0.9033 - val_loss: 0.2338 - val_accuracy: 0.9175\n",
            "Epoch 43/100\n",
            "29/29 [==============================] - 0s 6ms/step - loss: 0.2735 - accuracy: 0.8946 - val_loss: 0.2196 - val_accuracy: 0.9283\n",
            "Epoch 44/100\n",
            "29/29 [==============================] - 0s 4ms/step - loss: 0.2595 - accuracy: 0.9073 - val_loss: 0.2190 - val_accuracy: 0.9294\n",
            "Epoch 45/100\n",
            "29/29 [==============================] - 0s 6ms/step - loss: 0.2574 - accuracy: 0.9057 - val_loss: 0.2426 - val_accuracy: 0.9001\n",
            "Epoch 46/100\n",
            "29/29 [==============================] - 0s 6ms/step - loss: 0.2608 - accuracy: 0.9082 - val_loss: 0.2131 - val_accuracy: 0.9262\n",
            "Epoch 47/100\n",
            "29/29 [==============================] - 0s 5ms/step - loss: 0.2581 - accuracy: 0.9128 - val_loss: 0.2195 - val_accuracy: 0.9197\n",
            "Epoch 48/100\n",
            "29/29 [==============================] - 0s 6ms/step - loss: 0.2457 - accuracy: 0.9125 - val_loss: 0.2136 - val_accuracy: 0.9229\n",
            "Epoch 49/100\n",
            "29/29 [==============================] - 0s 4ms/step - loss: 0.2454 - accuracy: 0.9177 - val_loss: 0.2121 - val_accuracy: 0.9294\n",
            "Epoch 50/100\n",
            "29/29 [==============================] - 0s 6ms/step - loss: 0.2486 - accuracy: 0.9155 - val_loss: 0.2254 - val_accuracy: 0.9110\n",
            "Epoch 51/100\n",
            "29/29 [==============================] - 0s 5ms/step - loss: 0.2526 - accuracy: 0.9076 - val_loss: 0.2076 - val_accuracy: 0.9251\n",
            "Epoch 52/100\n",
            "29/29 [==============================] - 0s 5ms/step - loss: 0.2451 - accuracy: 0.9128 - val_loss: 0.2363 - val_accuracy: 0.9012\n",
            "Epoch 53/100\n",
            "29/29 [==============================] - 0s 5ms/step - loss: 0.2518 - accuracy: 0.9095 - val_loss: 0.2105 - val_accuracy: 0.9218\n",
            "Epoch 54/100\n",
            "29/29 [==============================] - 0s 5ms/step - loss: 0.2464 - accuracy: 0.9071 - val_loss: 0.2071 - val_accuracy: 0.9316\n",
            "Epoch 55/100\n",
            "29/29 [==============================] - 0s 5ms/step - loss: 0.2424 - accuracy: 0.9160 - val_loss: 0.2061 - val_accuracy: 0.9262\n",
            "Epoch 56/100\n",
            "29/29 [==============================] - 0s 5ms/step - loss: 0.2334 - accuracy: 0.9168 - val_loss: 0.2140 - val_accuracy: 0.9316\n",
            "Epoch 57/100\n",
            "29/29 [==============================] - 0s 5ms/step - loss: 0.2396 - accuracy: 0.9185 - val_loss: 0.2233 - val_accuracy: 0.9131\n",
            "Epoch 58/100\n",
            "29/29 [==============================] - 0s 4ms/step - loss: 0.2350 - accuracy: 0.9177 - val_loss: 0.2057 - val_accuracy: 0.9273\n",
            "Epoch 59/100\n",
            "29/29 [==============================] - 0s 5ms/step - loss: 0.2364 - accuracy: 0.9133 - val_loss: 0.2097 - val_accuracy: 0.9240\n",
            "Epoch 60/100\n",
            "29/29 [==============================] - 0s 4ms/step - loss: 0.2399 - accuracy: 0.9158 - val_loss: 0.2101 - val_accuracy: 0.9305\n",
            "Epoch 61/100\n",
            "29/29 [==============================] - 0s 5ms/step - loss: 0.2438 - accuracy: 0.9174 - val_loss: 0.2082 - val_accuracy: 0.9251\n",
            "Epoch 62/100\n",
            "29/29 [==============================] - 0s 5ms/step - loss: 0.2341 - accuracy: 0.9171 - val_loss: 0.2076 - val_accuracy: 0.9327\n",
            "Epoch 63/100\n",
            "29/29 [==============================] - 0s 5ms/step - loss: 0.2431 - accuracy: 0.9177 - val_loss: 0.2064 - val_accuracy: 0.9251\n",
            "Epoch 64/100\n",
            "29/29 [==============================] - 0s 5ms/step - loss: 0.2318 - accuracy: 0.9209 - val_loss: 0.2251 - val_accuracy: 0.9142\n",
            "Epoch 65/100\n",
            "29/29 [==============================] - 0s 4ms/step - loss: 0.2297 - accuracy: 0.9163 - val_loss: 0.2268 - val_accuracy: 0.9077\n",
            "Epoch 66/100\n",
            "29/29 [==============================] - 0s 5ms/step - loss: 0.2289 - accuracy: 0.9236 - val_loss: 0.2094 - val_accuracy: 0.9240\n",
            "Epoch 67/100\n",
            "29/29 [==============================] - 0s 6ms/step - loss: 0.2255 - accuracy: 0.9196 - val_loss: 0.2095 - val_accuracy: 0.9240\n",
            "Epoch 68/100\n",
            "29/29 [==============================] - 0s 5ms/step - loss: 0.2303 - accuracy: 0.9198 - val_loss: 0.2151 - val_accuracy: 0.9218\n",
            "Epoch 69/100\n",
            "29/29 [==============================] - 0s 5ms/step - loss: 0.2241 - accuracy: 0.9239 - val_loss: 0.2086 - val_accuracy: 0.9251\n",
            "Epoch 70/100\n",
            "29/29 [==============================] - 0s 6ms/step - loss: 0.2212 - accuracy: 0.9223 - val_loss: 0.2080 - val_accuracy: 0.9327\n",
            "Epoch 71/100\n",
            "29/29 [==============================] - 0s 5ms/step - loss: 0.2210 - accuracy: 0.9223 - val_loss: 0.2184 - val_accuracy: 0.9327\n",
            "Epoch 72/100\n",
            "29/29 [==============================] - 0s 5ms/step - loss: 0.2225 - accuracy: 0.9239 - val_loss: 0.2179 - val_accuracy: 0.9207\n",
            "Epoch 73/100\n",
            "29/29 [==============================] - 0s 4ms/step - loss: 0.2279 - accuracy: 0.9264 - val_loss: 0.2110 - val_accuracy: 0.9338\n",
            "Epoch 74/100\n",
            "29/29 [==============================] - 0s 5ms/step - loss: 0.2177 - accuracy: 0.9274 - val_loss: 0.2182 - val_accuracy: 0.9186\n",
            "Epoch 75/100\n",
            "29/29 [==============================] - 0s 5ms/step - loss: 0.2210 - accuracy: 0.9245 - val_loss: 0.2135 - val_accuracy: 0.9338\n",
            "Epoch 76/100\n",
            "29/29 [==============================] - 0s 4ms/step - loss: 0.2166 - accuracy: 0.9255 - val_loss: 0.2140 - val_accuracy: 0.9359\n",
            "Epoch 77/100\n",
            "29/29 [==============================] - 0s 6ms/step - loss: 0.2230 - accuracy: 0.9212 - val_loss: 0.2292 - val_accuracy: 0.9349\n",
            "Epoch 78/100\n",
            "29/29 [==============================] - 0s 6ms/step - loss: 0.2190 - accuracy: 0.9217 - val_loss: 0.2373 - val_accuracy: 0.9121\n",
            "Epoch 79/100\n",
            "29/29 [==============================] - 0s 5ms/step - loss: 0.2155 - accuracy: 0.9277 - val_loss: 0.2158 - val_accuracy: 0.9305\n",
            "Epoch 80/100\n",
            "29/29 [==============================] - 0s 6ms/step - loss: 0.2074 - accuracy: 0.9299 - val_loss: 0.2149 - val_accuracy: 0.9327\n",
            "Epoch 81/100\n",
            "29/29 [==============================] - 0s 5ms/step - loss: 0.2147 - accuracy: 0.9288 - val_loss: 0.2187 - val_accuracy: 0.9370\n",
            "Epoch 82/100\n",
            "29/29 [==============================] - 0s 5ms/step - loss: 0.2210 - accuracy: 0.9272 - val_loss: 0.2191 - val_accuracy: 0.9349\n",
            "Epoch 83/100\n",
            "29/29 [==============================] - 0s 5ms/step - loss: 0.2126 - accuracy: 0.9274 - val_loss: 0.2196 - val_accuracy: 0.9240\n",
            "Epoch 84/100\n",
            "29/29 [==============================] - 0s 5ms/step - loss: 0.2171 - accuracy: 0.9272 - val_loss: 0.2193 - val_accuracy: 0.9349\n",
            "Epoch 85/100\n",
            "29/29 [==============================] - 0s 5ms/step - loss: 0.2098 - accuracy: 0.9307 - val_loss: 0.2213 - val_accuracy: 0.9349\n",
            "Epoch 86/100\n",
            "29/29 [==============================] - 0s 5ms/step - loss: 0.2069 - accuracy: 0.9307 - val_loss: 0.2193 - val_accuracy: 0.9349\n",
            "Epoch 87/100\n",
            "29/29 [==============================] - 0s 5ms/step - loss: 0.2208 - accuracy: 0.9274 - val_loss: 0.2358 - val_accuracy: 0.9240\n",
            "Epoch 88/100\n",
            "29/29 [==============================] - 0s 5ms/step - loss: 0.2083 - accuracy: 0.9351 - val_loss: 0.2190 - val_accuracy: 0.9349\n",
            "Epoch 89/100\n",
            "29/29 [==============================] - 0s 5ms/step - loss: 0.2042 - accuracy: 0.9283 - val_loss: 0.2244 - val_accuracy: 0.9349\n",
            "Epoch 90/100\n",
            "29/29 [==============================] - 0s 4ms/step - loss: 0.2110 - accuracy: 0.9334 - val_loss: 0.2459 - val_accuracy: 0.9110\n",
            "Epoch 91/100\n",
            "29/29 [==============================] - 0s 6ms/step - loss: 0.2147 - accuracy: 0.9310 - val_loss: 0.2226 - val_accuracy: 0.9349\n",
            "Epoch 92/100\n",
            "29/29 [==============================] - 0s 5ms/step - loss: 0.2094 - accuracy: 0.9283 - val_loss: 0.2241 - val_accuracy: 0.9305\n",
            "Epoch 93/100\n",
            "29/29 [==============================] - 0s 5ms/step - loss: 0.2036 - accuracy: 0.9274 - val_loss: 0.2279 - val_accuracy: 0.9251\n",
            "Epoch 94/100\n",
            "29/29 [==============================] - 0s 4ms/step - loss: 0.2067 - accuracy: 0.9332 - val_loss: 0.2311 - val_accuracy: 0.9370\n",
            "Epoch 95/100\n",
            "29/29 [==============================] - 0s 5ms/step - loss: 0.2155 - accuracy: 0.9334 - val_loss: 0.2279 - val_accuracy: 0.9283\n",
            "Epoch 96/100\n",
            "29/29 [==============================] - 0s 5ms/step - loss: 0.2106 - accuracy: 0.9296 - val_loss: 0.2292 - val_accuracy: 0.9251\n",
            "Epoch 97/100\n",
            "29/29 [==============================] - 0s 4ms/step - loss: 0.2196 - accuracy: 0.9307 - val_loss: 0.2256 - val_accuracy: 0.9392\n",
            "Epoch 98/100\n",
            "29/29 [==============================] - 0s 5ms/step - loss: 0.2065 - accuracy: 0.9340 - val_loss: 0.2355 - val_accuracy: 0.9273\n",
            "Epoch 99/100\n",
            "29/29 [==============================] - 0s 5ms/step - loss: 0.2116 - accuracy: 0.9326 - val_loss: 0.2332 - val_accuracy: 0.9327\n",
            "Epoch 100/100\n",
            "29/29 [==============================] - 0s 5ms/step - loss: 0.2045 - accuracy: 0.9345 - val_loss: 0.2267 - val_accuracy: 0.9338\n",
            "dict_keys(['loss', 'accuracy', 'val_loss', 'val_accuracy'])\n",
            "29/29 [==============================] - 0s 2ms/step - loss: 0.2267 - accuracy: 0.9338\n",
            "Accuracy: 93.38\n"
          ]
        }
      ],
      "source": [
        "\n",
        "# DATASET - https://www.kaggle.com/datasets/somesh24/spambase?select=spambase_csv.csv  \n",
        "\n",
        "file_path = 'https://raw.githubusercontent.com/icaroperetti/spam-kaggle-csv/main/spambase_csv.csv'\n",
        "\n",
        "# load the dataset\n",
        "dataset = np.loadtxt(file_path,delimiter=\",\")\n",
        "\n",
        "\n",
        "X = dataset[:,0:57] # Dados\n",
        "y = dataset[:,57] # Classe 0 - Não é spam  1 - É spam\n",
        "\n",
        "# Normalização dos dados\n",
        "X = Normalizer(norm='max').fit_transform(X)\n",
        "\n",
        "print(X.shape,y.shape)\n",
        "\n",
        "print(X,'\\n\\n',y)\n",
        "\n",
        "X_train, X_test, y_train, y_test = train_test_split(X, y, test_size=0.2, random_state=80, shuffle=True)\n",
        "\n",
        "print(X_train.shape,y_train.shape,X_test.shape,y_test.shape)\n",
        "\n",
        "# Modelo Sequencial\n",
        "model = Sequential()\n",
        "\n",
        "#input_dim: Dimensão de entrada, quantos atributos existem na base de dados exceto valor classe\n",
        "model.add(Dense(56, input_dim=X.shape[1], activation=activations.relu))  # relu - Está entre as melhores funções de ativação\n",
        "model.add(Dense(18, activation=activations.relu))\n",
        "model.add(Dropout(0.5)) #  Evitar que o modelo aprenda de mais sobre o dataset (overfitting)\n",
        "model.add(Dense(6, activation=activations.relu))\n",
        "model.add(Dropout(0.2))\n",
        "model.add(Dense(1, activation='sigmoid')) # Independente da ativação que o neurônio de a saida será 0 ou 1\n",
        "\n",
        "# compile the keras model\n",
        "# binary_crossentropy: Função de erro, visto que o problema é binário \n",
        "# adam: Passa todos as amostras pela rede, calcula o erro por meio da função de \n",
        "# ... loss e faz a otimização voltando e ajustando os pesos\n",
        "# accuracy: Avaliar se a rede está melhorando ou não - Vetor da classe\n",
        "model.compile(loss='binary_crossentropy', optimizer='adam', metrics=['accuracy'])\n",
        "\n",
        "#X_train: De onde os dados virão para realizar o treinamento\n",
        "#y_train: Dados utilizados para verificar se a rede está aprendendo ou não\n",
        "#batch_size: Número de amostras que irão passar pela rede neural a cada treinamento \n",
        "history = model.fit(X_train, y_train, validation_data=(X_test, y_test), epochs=100, batch_size=128) # fit the keras model on the dataset\n",
        "\n",
        "print(history.history.keys())\n",
        "\n",
        "# Verificar o quanto o modelo aprendeu\n",
        "_, accuracy = model.evaluate(X_test, y_test)\n",
        "print('Accuracy: %.2f' % (accuracy*100))\n"
      ]
    },
    {
      "cell_type": "code",
      "execution_count": 61,
      "metadata": {
        "id": "7ZgyKXUoIsY4",
        "colab": {
          "base_uri": "https://localhost:8080/",
          "height": 295
        },
        "outputId": "a4666bef-2b62-4c1a-c481-a179343bf6c7"
      },
      "outputs": [
        {
          "output_type": "display_data",
          "data": {
            "text/plain": [
              "<Figure size 432x288 with 1 Axes>"
            ],
            "image/png": "[encoded data removed]"
          },
          "metadata": {
            "needs_background": "light"
          }
        }
      ],
      "source": [
        "# Gráfico da acurácia\n",
        "figure = plt.figure()\n",
        "plt.plot(history.history['accuracy'])\n",
        "plt.plot(history.history['val_accuracy'])\n",
        "plt.title('Accuracy Model')\n",
        "plt.ylabel('accuracy')\n",
        "plt.xlabel('eppoch')\n",
        "plt.legend(['train', 'test'], loc='upper left')\n",
        "figure.savefig('acc.pdf', dpi=figure.dpi)"
      ]
    },
    {
      "cell_type": "code",
      "execution_count": 62,
      "metadata": {
        "id": "Odl6SyDOIvpV",
        "colab": {
          "base_uri": "https://localhost:8080/",
          "height": 295
        },
        "outputId": "064852c5-defa-4a0c-c7a2-806daed7a192"
      },
      "outputs": [
        {
          "output_type": "display_data",
          "data": {
            "text/plain": [
              "<Figure size 432x288 with 1 Axes>"
            ],
            "image/png": "[encoded data removed]"
          },
          "metadata": {
            "needs_background": "light"
          }
        }
      ],
      "source": [
        "# Gráfico do LOSS\n",
        "plt.plot(history.history['loss'])\n",
        "plt.plot(history.history['val_loss'])\n",
        "plt.title('Loss Model')\n",
        "plt.ylabel('loss')\n",
        "plt.xlabel('epoch')\n",
        "plt.legend(['train', 'test'], loc='upper left')\n",
        "plt.savefig('loss.pdf')\n",
        "plt.show()"
      ]
    },
    {
      "cell_type": "code",
      "execution_count": 63,
      "metadata": {
        "id": "oRfxwTmMIwqR",
        "colab": {
          "base_uri": "https://localhost:8080/",
          "height": 333
        },
        "outputId": "227445ae-cf1a-4d5d-f4f3-b03c40d91f94"
      },
      "outputs": [
        {
          "output_type": "stream",
          "name": "stdout",
          "text": [
            "\n",
            "--- Confusion Matrix ---\n",
            "\n"
          ]
        },
        {
          "output_type": "display_data",
          "data": {
            "text/plain": [
              "<Figure size 432x288 with 2 Axes>"
            ],
            "image/png": "[encoded data removed]"
          },
          "metadata": {
            "needs_background": "light"
          }
        }
      ],
      "source": [
        "pred = (model.predict(X_test) > 0.5).astype(\"int32\") # Vetor com a classificação de cada amostra do teste\n",
        "# print(\"Pred\",pred)\n",
        "\n",
        "# Primeiro parametro: O que realmente é\n",
        "# Segundo parametro: O que a rede retornou como verdade\n",
        "confusionMatrix = confusion_matrix(y_test, pred)\n",
        "# print(confusionMatrix)\n",
        "\n",
        "confusion_matrix_display = ConfusionMatrixDisplay(confusion_matrix=confusionMatrix, display_labels=['Não é spam','É spam'])\n",
        "confusion_matrix_display.plot()\n",
        "print(\"\\n--- Confusion Matrix ---\\n\")\n",
        "plt.show()\n",
        "\n"
      ]
    },
    {
      "cell_type": "code",
      "execution_count": 64,
      "metadata": {
        "id": "_r-6MoLJJeL3",
        "colab": {
          "base_uri": "https://localhost:8080/"
        },
        "outputId": "99c8f3c0-f1d5-4254-9ee8-12a0075b2636"
      },
      "outputs": [
        {
          "output_type": "stream",
          "name": "stdout",
          "text": [
            "Verdadeiro Negativo:  526\n",
            "Falso Positivo: 34\n",
            "Falso Negativo: 27\n",
            "Verdadeiro Positivo: 334 \n",
            "\n",
            "TPR:92.52\n",
            "TNR:93.93\n",
            "ACC:93.38\n"
          ]
        }
      ],
      "source": [
        "tn, fp, fn, tp = confusion_matrix(y_test, pred).ravel()\n",
        "\n",
        "tpr = tp / (tp + fn) # True Positive, todos os verdadeiros que realmente eram verdadeiros\n",
        "tnr = tn / (tn + fp) # True Negative, todos falsos que realmente eram falsos\n",
        "\n",
        "print('Verdadeiro Negativo: ', tn)\n",
        "print('Falso Positivo:', fp)\n",
        "print('Falso Negativo:', fn)\n",
        "print('Verdadeiro Positivo:', tp,'\\n')\n",
        "\n",
        "# Calculo acurácia - os verdadeiros positivos e os verdadeiros negativos / soma de tudo\n",
        "acc = (tp + tn) / (tp + tn + fp + fn) \n",
        "\n",
        "\n",
        "print(\"TPR:%.2f\" % (tpr*100))\n",
        "print(\"TNR:%.2f\" % (tnr*100))\n",
        "print(\"ACC:%.2f\" % (acc*100))"
      ]
    },
    {
      "cell_type": "code",
      "execution_count": 65,
      "metadata": {
        "id": "pxVjEdA1vi7b",
        "colab": {
          "base_uri": "https://localhost:8080/"
        },
        "outputId": "ea957898-fe6d-4f39-fe7e-9ea2aa19d7f1"
      },
      "outputs": [
        {
          "output_type": "stream",
          "name": "stdout",
          "text": [
            "AUC: 0.9322467352592007\n"
          ]
        }
      ],
      "source": [
        "#AUC \n",
        "fpr, tpr, thresholds = metrics.roc_curve(y_test,pred,pos_label=1)\n",
        "auc = metrics.auc(fpr,tpr)\n",
        "print(\"AUC:\", auc)\n"
      ]
    },
    {
      "cell_type": "code",
      "execution_count": 66,
      "metadata": {
        "id": "g9wEpIB-wcbI",
        "colab": {
          "base_uri": "https://localhost:8080/",
          "height": 308
        },
        "outputId": "b090cad3-a226-4250-be48-9e15e436b76e"
      },
      "outputs": [
        {
          "output_type": "display_data",
          "data": {
            "text/plain": [
              "<Figure size 432x288 with 1 Axes>"
            ],
            "image/png": "[encoded data removed]"
          },
          "metadata": {
            "needs_background": "light"
          }
        }
      ],
      "source": [
        "# Curva ROC\n",
        "plt.plot([0,1], [0,1], linestyle='--', lw=2, color='r', label='Chance', alpha=.8)\n",
        "plt.plot(fpr, tpr, color='b', label=r'ROC (AUC = %0.02F)' % (auc), lw=2, alpha=.8)\n",
        "plt.suptitle('ROC CURVE')\n",
        "plt.xlabel('fpr')\n",
        "plt.ylabel('tpr')\n",
        "plt.legend(loc='lower right')\n",
        "plt.show()"
      ]
    }
  ],
  "metadata": {
    "accelerator": "TPU",
    "colab": {
      "collapsed_sections": [],
      "name": "rna-keras.ipynb",
      "provenance": [],
      "authorship_tag": "ABX9TyMn7TIRXG90zB3rhvgRJN7l"
    },
    "kernelspec": {
      "display_name": "Python 3",
      "name": "python3"
    },
    "language_info": {
      "name": "python"
    }
  },
  "nbformat": 4,
  "nbformat_minor": 0
}