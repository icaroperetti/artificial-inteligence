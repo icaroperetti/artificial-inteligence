{
  "cells": [
    {
      "cell_type": "markdown",
      "metadata": {
        "id": "YBaw2I08OK-N"
      },
      "source": [
        "Teste"
      ]
    },
    {
      "cell_type": "code",
      "execution_count": null,
      "metadata": {
        "id": "tr0db5kmFG6H"
      },
      "outputs": [],
      "source": [
        "print(\"Hello World\")\n"
      ]
    }
  ],
  "metadata": {
    "colab": {
      "collapsed_sections": [],
      "name": "missionayCannibals.ipynb",
      "provenance": []
    },
    "kernelspec": {
      "display_name": "Python 3",
      "name": "python3"
    },
    "language_info": {
      "name": "python"
    }
  },
  "nbformat": 4,
  "nbformat_minor": 0
}
