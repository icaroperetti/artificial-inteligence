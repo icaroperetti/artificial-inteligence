{
  "nbformat": 4,
  "nbformat_minor": 0,
  "metadata": {
    "colab": {
      "name": "missionayCannibals.ipynb",
      "provenance": [],
      "collapsed_sections": []
    },
    "kernelspec": {
      "name": "python3",
      "display_name": "Python 3"
    },
    "language_info": {
      "name": "python"
    }
  },
  "cells": [
    {
      "cell_type": "markdown",
      "source": [
        "Implemente uma solução para resolver o problema dos missionários e canibais de maneira ótima,utilizando o algoritmo de busca A*;"
      ],
      "metadata": {
        "id": "YBaw2I08OK-N"
      }
    },
    {
      "cell_type": "code",
      "execution_count": null,
      "metadata": {
        "id": "tr0db5kmFG6H"
      },
      "outputs": [],
      "source": [
        "print(\"Hello World\")\n"
      ]
    }
  ]
}